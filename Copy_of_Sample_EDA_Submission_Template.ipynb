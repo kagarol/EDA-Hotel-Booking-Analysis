{
  "nbformat": 4,
  "nbformat_minor": 0,
  "metadata": {
    "colab": {
      "private_outputs": true,
      "provenance": [],
      "collapsed_sections": [
        "yQaldy8SH6Dl",
        "PH-0ReGfmX4f",
        "mDgbUHAGgjLW",
        "u3PMJOP6ngxN",
        "dauF4eBmngu3",
        "bKJF3rekwFvQ",
        "MSa1f5Uengrz",
        "GF8Ens_Soomf",
        "QHF8YVU7Yuh3",
        "GwzvFGzlYuh3",
        "qYpmQ266Yuh3",
        "OH-pJp9IphqM",
        "bbFf2-_FphqN",
        "_ouA3fa0phqN",
        "Seke61FWphqN",
        "PIIx-8_IphqN",
        "t27r6nlMphqO",
        "r2jJGEOYphqO",
        "b0JNsNcRphqO",
        "BZR9WyysphqO",
        "jj7wYXLtphqO",
        "eZrbJ2SmphqO",
        "rFu4xreNphqO",
        "YJ55k-q6phqO",
        "gCFgpxoyphqP",
        "OVtJsKN_phqQ",
        "lssrdh5qphqQ",
        "U2RJ9gkRphqQ",
        "1M8mcRywphqQ",
        "tgIPom80phqQ",
        "JMzcOPDDphqR",
        "x-EpHcCOp1ci",
        "X_VqEhTip1ck",
        "8zGJKyg5p1ck",
        "PVzmfK_Ep1ck",
        "n3dbpmDWp1ck",
        "ylSl6qgtp1ck",
        "ZWILFDl5p1ck",
        "M7G43BXep1ck",
        "Ag9LCva-p1cl",
        "E6MkPsBcp1cl",
        "2cELzS2fp1cl",
        "3MPXvC8up1cl",
        "NC_X3p0fY2L0",
        "UV0SzAkaZNRQ",
        "YPEH6qLeZNRQ",
        "q29F0dvdveiT",
        "EXh0U9oCveiU",
        "22aHeOlLveiV",
        "JcMwzZxoAimU",
        "8G2x9gOozGDZ",
        "gCX9965dhzqZ",
        "gIfDvo9L0UH2"
      ],
      "include_colab_link": true
    },
    "kernelspec": {
      "name": "python3",
      "display_name": "Python 3"
    },
    "language_info": {
      "name": "python"
    }
  },
  "cells": [
    {
      "cell_type": "markdown",
      "metadata": {
        "id": "view-in-github",
        "colab_type": "text"
      },
      "source": [
        "<a href=\"https://colab.research.google.com/github/kagarol/EDA-Hotel-Booking-Analysis/blob/main/Copy_of_Sample_EDA_Submission_Template.ipynb\" target=\"_parent\"><img src=\"https://colab.research.google.com/assets/colab-badge.svg\" alt=\"Open In Colab\"/></a>"
      ]
    },
    {
      "cell_type": "markdown",
      "source": [
        "# **Project Name**    - **Hotel Booking Analysis**\n",
        "\n"
      ],
      "metadata": {
        "id": "vncDsAP0Gaoa"
      }
    },
    {
      "cell_type": "markdown",
      "source": [
        "##### **Project Type**    - EDA\n",
        "##### **Contribution**    - Individual\n",
        "**Name - Rishav Goyal**"
      ],
      "metadata": {
        "id": "beRrZCGUAJYm"
      }
    },
    {
      "cell_type": "markdown",
      "source": [
        "# **Project Summary -**"
      ],
      "metadata": {
        "id": "FJNUwmbgGyua"
      }
    },
    {
      "cell_type": "markdown",
      "source": [],
      "metadata": {
        "id": "F6v_1wHtG2nS"
      }
    },
    {
      "cell_type": "markdown",
      "source": [
        "# **GitHub Link -**"
      ],
      "metadata": {
        "id": "w6K7xa23Elo4"
      }
    },
    {
      "cell_type": "markdown",
      "source": [
        "https://github.com/kagarol/EDA-Hotel-Booking-Analysis.git"
      ],
      "metadata": {
        "id": "h1o69JH3Eqqn"
      }
    },
    {
      "cell_type": "markdown",
      "source": [
        "# **Problem Statement**\n"
      ],
      "metadata": {
        "id": "yQaldy8SH6Dl"
      }
    },
    {
      "cell_type": "markdown",
      "source": [
        "**Write Problem Statement Here.**"
      ],
      "metadata": {
        "id": "DpeJGUA3kjGy"
      }
    },
    {
      "cell_type": "markdown",
      "source": [
        "#### **Define Your Business Objective?**"
      ],
      "metadata": {
        "id": "PH-0ReGfmX4f"
      }
    },
    {
      "cell_type": "markdown",
      "source": [
        "Answer Here."
      ],
      "metadata": {
        "id": "PhDvGCAqmjP1"
      }
    },
    {
      "cell_type": "markdown",
      "source": [
        "# **General Guidelines** : -  "
      ],
      "metadata": {
        "id": "mDgbUHAGgjLW"
      }
    },
    {
      "cell_type": "markdown",
      "source": [
        "1.   Well-structured, formatted, and commented code is required.\n",
        "2.   Exception Handling, Production Grade Code & Deployment Ready Code will be a plus. Those students will be awarded some additional credits.\n",
        "     \n",
        "     The additional credits will have advantages over other students during Star Student selection.\n",
        "       \n",
        "             [ Note: - Deployment Ready Code is defined as, the whole .ipynb notebook should be executable in one go\n",
        "                       without a single error logged. ]\n",
        "\n",
        "3.   Each and every logic should have proper comments.\n",
        "4. You may add as many number of charts you want. Make Sure for each and every chart the following format should be answered.\n",
        "        \n",
        "\n",
        "```\n",
        "# Chart visualization code\n",
        "```\n",
        "            \n",
        "\n",
        "*   Why did you pick the specific chart?\n",
        "*   What is/are the insight(s) found from the chart?\n",
        "* Will the gained insights help creating a positive business impact?\n",
        "Are there any insights that lead to negative growth? Justify with specific reason.\n",
        "\n",
        "5. You have to create at least 20 logical & meaningful charts having important insights.\n",
        "\n",
        "\n",
        "[ Hints : - Do the Vizualization in  a structured way while following \"UBM\" Rule.\n",
        "\n",
        "U - Univariate Analysis,\n",
        "\n",
        "B - Bivariate Analysis (Numerical - Categorical, Numerical - Numerical, Categorical - Categorical)\n",
        "\n",
        "M - Multivariate Analysis\n",
        " ]\n",
        "\n",
        "\n",
        "\n"
      ],
      "metadata": {
        "id": "ZrxVaUj-hHfC"
      }
    },
    {
      "cell_type": "markdown",
      "source": [
        "# ***Let's Begin !***"
      ],
      "metadata": {
        "id": "O_i_v8NEhb9l"
      }
    },
    {
      "cell_type": "markdown",
      "source": [
        "## ***1. Know Your Data***"
      ],
      "metadata": {
        "id": "HhfV-JJviCcP"
      }
    },
    {
      "cell_type": "markdown",
      "source": [
        "### Import Libraries"
      ],
      "metadata": {
        "id": "Y3lxredqlCYt"
      }
    },
    {
      "cell_type": "code",
      "source": [
        "# Import Libraries\n",
        "import numpy as np\n",
        "import pandas as pd\n",
        "from numpy import math\n",
        "from numpy import loadtxt\n",
        "\n",
        "# Import Visualization Libraries\n",
        "import matplotlib\n",
        "import matplotlib.pyplot as plt\n",
        "%matplotlib inline\n",
        "from matplotlib import rcParams\n",
        "import seaborn as sns\n",
        "import plotly.express as px\n",
        "import folium\n",
        "\n",
        "import warnings\n",
        "warnings.filterwarnings('ignore')\n"
      ],
      "metadata": {
        "id": "M8Vqi-pPk-HR"
      },
      "execution_count": null,
      "outputs": []
    },
    {
      "cell_type": "markdown",
      "source": [
        "### Dataset Loading"
      ],
      "metadata": {
        "id": "3RnN4peoiCZX"
      }
    },
    {
      "cell_type": "code",
      "source": [
        "# Load Dataset\n",
        "from google.colab import drive\n",
        "drive.mount('/content/drive')"
      ],
      "metadata": {
        "id": "pG4IL0ef0Du3"
      },
      "execution_count": null,
      "outputs": []
    },
    {
      "cell_type": "code",
      "source": [
        "file_path = '/content/drive/MyDrive/Data Science/Python (Module 1)/EDA Project/'\n",
        "df = pd.read_csv(file_path + 'Hotel Bookings.csv')"
      ],
      "metadata": {
        "id": "YOlP_SbC0x-b"
      },
      "execution_count": null,
      "outputs": []
    },
    {
      "cell_type": "markdown",
      "source": [
        "### Dataset First View"
      ],
      "metadata": {
        "id": "x71ZqKXriCWQ"
      }
    },
    {
      "cell_type": "code",
      "source": [
        "# Dataset First Look\n",
        "df.head()"
      ],
      "metadata": {
        "id": "LWNFOSvLl09H"
      },
      "execution_count": null,
      "outputs": []
    },
    {
      "cell_type": "markdown",
      "source": [
        "### Dataset Rows & Columns count"
      ],
      "metadata": {
        "id": "7hBIi_osiCS2"
      }
    },
    {
      "cell_type": "code",
      "source": [
        "# Dataset Rows & Columns count\n",
        "df.shape[0], df.shape[1]"
      ],
      "metadata": {
        "id": "Kllu7SJgmLij"
      },
      "execution_count": null,
      "outputs": []
    },
    {
      "cell_type": "markdown",
      "source": [
        "### Dataset Information"
      ],
      "metadata": {
        "id": "JlHwYmJAmNHm"
      }
    },
    {
      "cell_type": "code",
      "source": [
        "# Dataset Info\n",
        "df.info()"
      ],
      "metadata": {
        "id": "e9hRXRi6meOf"
      },
      "execution_count": null,
      "outputs": []
    },
    {
      "cell_type": "markdown",
      "source": [
        "we see their are 32 columns in our dataset and some columns like 'agent','company','children','country' have some null values"
      ],
      "metadata": {
        "id": "BPgPL8v0QTkX"
      }
    },
    {
      "cell_type": "markdown",
      "source": [
        "#### Duplicate Values"
      ],
      "metadata": {
        "id": "35m5QtbWiB9F"
      }
    },
    {
      "cell_type": "code",
      "source": [
        "# Dataset Duplicate Value Count\n",
        "len(df[df.duplicated()])"
      ],
      "metadata": {
        "id": "1sLdpKYkmox0"
      },
      "execution_count": null,
      "outputs": []
    },
    {
      "cell_type": "markdown",
      "source": [
        "#### Missing Values/Null Values"
      ],
      "metadata": {
        "id": "PoPl-ycgm1ru"
      }
    },
    {
      "cell_type": "code",
      "source": [
        "# Missing Values/Null Values Count\n",
        "df_null_values = df.isnull().sum().reset_index().rename(columns={'index':'Columns',0:'Null Values'})\n",
        "df_null_values"
      ],
      "metadata": {
        "id": "GgHWkxvamxVg"
      },
      "execution_count": null,
      "outputs": []
    },
    {
      "cell_type": "code",
      "source": [
        "# Visualizing the missing values\n",
        "# we use bar chart to visualizing the missing values\n",
        "px.bar(df_null_values,x='Columns',y='Null Values',width= 1000,height=500,text_auto = True)"
      ],
      "metadata": {
        "id": "3q5wnI3om9sJ"
      },
      "execution_count": null,
      "outputs": []
    },
    {
      "cell_type": "markdown",
      "source": [
        "### What did you know about your dataset?"
      ],
      "metadata": {
        "id": "H0kj-8xxnORC"
      }
    },
    {
      "cell_type": "markdown",
      "source": [
        "The given dataset is from hotel industry. Our objective is to explore and analysis the data to discover the factor that influence the booking most\n",
        "We see their 119390 rows and  32 columns in our dataset and some columns like 'agent' has 16340, 'company' has 112593, 'country' has 488 and 'childern' has 4 null values and 31994 are duplicate rows in our dataset."
      ],
      "metadata": {
        "id": "gfoNAAC-nUe_"
      }
    },
    {
      "cell_type": "markdown",
      "source": [
        "## ***2. Understanding Your Variables***"
      ],
      "metadata": {
        "id": "nA9Y7ga8ng1Z"
      }
    },
    {
      "cell_type": "code",
      "source": [
        "# Dataset Columns\n",
        "df.columns"
      ],
      "metadata": {
        "id": "j7xfkqrt5Ag5"
      },
      "execution_count": null,
      "outputs": []
    },
    {
      "cell_type": "code",
      "source": [
        "# Dataset Describe\n",
        "df.describe()"
      ],
      "metadata": {
        "id": "DnOaZdaE5Q5t"
      },
      "execution_count": null,
      "outputs": []
    },
    {
      "cell_type": "markdown",
      "source": [
        "### Variables Description"
      ],
      "metadata": {
        "id": "PBTbrJXOngz2"
      }
    },
    {
      "cell_type": "markdown",
      "source": [
        "* **Hotel:**  H1= Resort Hotel, H2= City Hotel\n",
        "* **is_canceled** : If the booking was canceled(1) or not(0)\n",
        "* **lead_time** : Number of days that elapsed between the entering date of the  booking into the PMS(Property Management System) and the arrival date\n",
        "* **arrival_date_year** : Year of arrival date.\n",
        "* **arrival_date_month** : Month of arrival date.\n",
        "* **arrival_date_week_number** : Week number for arrival date.\n",
        "* **arrival_date_day_of_month**: Which day of the months guest is arriving.\n",
        "* **stays_in_weekend_nights**: Number of weekend nights (Saturday or Sunday) the guest stayed or booked to stay at the hotel.\n",
        "* **stays_in_week_nights**: Number of week nights (Monday to Friday) the guest stayed or booked to stay at the hotel.\n",
        "* **adults** : Number of adults.\n",
        "* **children** : Number of children.\n",
        "* **babies** : Number of babies.\n",
        "* **meal**: kind of meal opted for.\n",
        "* **country** : Country code.\n",
        "* **market_segment**: Which segment the customer belongs to .\n",
        "* **distribution_channel** : How the customer accessed the stay- Corporate Booking/Direct/TA.TO\n",
        "* **is_repeated_guest** : The values indicating if the booking name was from a repeated guest (1) or not (0).\n",
        "* **previous_cancellations** : Was there a cancellation before.\n",
        "* **previous_bookings_not_canceled** : Count of previous bookings not cancelled.\n",
        "* **reserved_room_type** : Code of room type reserved.\n",
        "* **assigned_room_type** : Code for the type of room assigned to the booking.\n",
        "* **booking_changes** : Count of changes made to booking.\n",
        "* **deposit_type** : Deposit type.\n",
        "* **agent** : If the booking happens through agents or not.\n",
        "* **company** : If the booking happens through companies, the company ID that made the booking or responsible for paying the booking.\n",
        "* **days_in_waiting_list** : Number of days the booking was on the waiting list before the confirmation to the customer.\n",
        "* **customer_type** : Booking type like Transient – Transient-Party – Contract – Group.\n",
        "* **adr** : Average Daily Rates that described via way of means of dividing the sum of all accommodations transactions using entire numbers of staying nights.\n",
        "* **required_car_parking_spaces** : How many parking areas are necessary for the customers.\n",
        "* **total_of_special_requests** : Total unique requests from consumers.\n",
        "* **reservation_status**: The last status of reservation, assuming one of three categories: Canceled – booking was cancelled by the customer; Check-Out;No-Show.\n",
        "* **reservation_status_date**: The last status date."
      ],
      "metadata": {
        "id": "aJV4KIxSnxay"
      }
    },
    {
      "cell_type": "markdown",
      "source": [
        "### Check Unique Values for each variable."
      ],
      "metadata": {
        "id": "u3PMJOP6ngxN"
      }
    },
    {
      "cell_type": "code",
      "source": [
        "# Check Unique Values for each variable.\n",
        "df_columns = df.columns\n",
        "for i in list(df_columns):\n",
        "  print(f\"column name: {i} no.of unique values {df[i].nunique()}\")"
      ],
      "metadata": {
        "id": "zms12Yq5n-jE"
      },
      "execution_count": null,
      "outputs": []
    },
    {
      "cell_type": "markdown",
      "source": [
        "## 3. ***Data Wrangling***"
      ],
      "metadata": {
        "id": "dauF4eBmngu3"
      }
    },
    {
      "cell_type": "markdown",
      "source": [
        "### Data Wrangling Code"
      ],
      "metadata": {
        "id": "bKJF3rekwFvQ"
      }
    },
    {
      "cell_type": "code",
      "source": [
        "# Write your code to make your dataset analysis ready.\n",
        "# First we create a copy of our dataframe to avoid changes in our original dataframe\n",
        "df1 = df.copy()"
      ],
      "metadata": {
        "id": "wk-9a2fpoLcV"
      },
      "execution_count": null,
      "outputs": []
    },
    {
      "cell_type": "markdown",
      "source": [
        "# First of all we try to understand the meaning of all columns of our dataframe. For this we will see the unique values attained by columns whose meaning are not able to understand."
      ],
      "metadata": {
        "id": "ZUXWz-QslDMu"
      }
    },
    {
      "cell_type": "code",
      "source": [
        "# print the unique values in hotel column\n",
        "print(df1['hotel'].unique())\n",
        "print(df1['hotel'].value_counts())"
      ],
      "metadata": {
        "id": "ILEf0PhbmGVM"
      },
      "execution_count": null,
      "outputs": []
    },
    {
      "cell_type": "markdown",
      "source": [
        "As we see their are only two unique values in hotel column and most of them are city hotel"
      ],
      "metadata": {
        "id": "Datf14Mz9JUg"
      }
    },
    {
      "cell_type": "code",
      "source": [
        "# print the unique values in is_canceled column\n",
        "print(df1['is_canceled'].unique())\n",
        "print(df1['is_canceled'].value_counts())"
      ],
      "metadata": {
        "id": "x5U43DAhmbiS"
      },
      "execution_count": null,
      "outputs": []
    },
    {
      "cell_type": "code",
      "source": [
        "# print the unique value in arrivel_date_year column\n",
        "print(df1['arrival_date_year'].unique())\n",
        "print(df1['arrival_date_year'].value_counts())\n"
      ],
      "metadata": {
        "id": "jXqDa5ZIq9IZ"
      },
      "execution_count": null,
      "outputs": []
    },
    {
      "cell_type": "code",
      "source": [
        "# print the unique value in meal column\n",
        "print(df1['meal'].unique())\n",
        "print(df1['meal'].value_counts())"
      ],
      "metadata": {
        "id": "zpmULfS7r2fS"
      },
      "execution_count": null,
      "outputs": []
    },
    {
      "cell_type": "code",
      "source": [
        "# print the unique value in market_segment column\n",
        "print(df1['market_segment'].unique())\n",
        "print(df1['market_segment'].value_counts())"
      ],
      "metadata": {
        "id": "hUnkTPXCsOFU"
      },
      "execution_count": null,
      "outputs": []
    },
    {
      "cell_type": "code",
      "source": [
        "# print the unique value in distribution_channel column\n",
        "print(df1['distribution_channel'].unique())\n",
        "print(df1['distribution_channel'].value_counts())"
      ],
      "metadata": {
        "id": "GSC4SeuDsdr_"
      },
      "execution_count": null,
      "outputs": []
    },
    {
      "cell_type": "code",
      "source": [
        "# print the unique value in reserved_room_type column\n",
        "print(df1['reserved_room_type'].unique())\n",
        "print(df1['reserved_room_type'].value_counts())"
      ],
      "metadata": {
        "id": "ASKdhvR4tf2h"
      },
      "execution_count": null,
      "outputs": []
    },
    {
      "cell_type": "code",
      "source": [
        "# print the unique value in assigned_room_type\n",
        "print(df1['assigned_room_type'].unique())\n",
        "print(df1['assigned_room_type'].value_counts())"
      ],
      "metadata": {
        "id": "YMzeGgh0tsYl"
      },
      "execution_count": null,
      "outputs": []
    },
    {
      "cell_type": "code",
      "source": [
        "# print the unique value in deposit_type column\n",
        "print(df1['deposit_type'].unique())\n",
        "print(df1['deposit_type'].value_counts())"
      ],
      "metadata": {
        "id": "kWrpTBn2uTQL"
      },
      "execution_count": null,
      "outputs": []
    },
    {
      "cell_type": "code",
      "source": [
        "# print the unique value in customer_type column\n",
        "print(df1['customer_type'].unique())\n",
        "print(df1['customer_type'].value_counts())"
      ],
      "metadata": {
        "id": "SacsKqcOu0pj"
      },
      "execution_count": null,
      "outputs": []
    },
    {
      "cell_type": "code",
      "source": [
        "# print the unique value in required_car_parking_spaces column\n",
        "print(df1['required_car_parking_spaces'].unique())\n",
        "print(df1['required_car_parking_spaces'].value_counts())"
      ],
      "metadata": {
        "id": "B-o4kBQOvJHd"
      },
      "execution_count": null,
      "outputs": []
    },
    {
      "cell_type": "code",
      "source": [
        "# print the unique value in total_of_special_requests column\n",
        "print(df1['total_of_special_requests'].unique())\n",
        "print(df1['total_of_special_requests'].value_counts())"
      ],
      "metadata": {
        "id": "04Yso0KrvWuZ"
      },
      "execution_count": null,
      "outputs": []
    },
    {
      "cell_type": "code",
      "source": [
        "# print the unique value in reservation_status column\n",
        "print(df1['reservation_status'].unique())\n",
        "print(df1['reservation_status'].value_counts())"
      ],
      "metadata": {
        "id": "bvJfbvmxveMD"
      },
      "execution_count": null,
      "outputs": []
    },
    {
      "cell_type": "markdown",
      "source": [
        "# **Cleaning Data**\n",
        "\n",
        "Cleaning Data is a crucial step before EDA as it will remove unwanted data that will affects outcomes of EDA.\n",
        "\n",
        "While cleaning data we will perform following steps/\n",
        "\n",
        "  1. Remove the duplicate rows/\n",
        "  2. Handling missing values/\n",
        "  3. Converts columns to appropriate data type/\n",
        "  4. Adding importent columns"
      ],
      "metadata": {
        "id": "b1y13IDa9vtO"
      }
    },
    {
      "cell_type": "markdown",
      "source": [
        "# **Step 1 removing duplicate values**"
      ],
      "metadata": {
        "id": "WDM-KWCk_VdB"
      }
    },
    {
      "cell_type": "code",
      "source": [
        "# Dropping duplicate values\n",
        "df1 = df1.drop_duplicates()"
      ],
      "metadata": {
        "id": "FFNpZSv-9KXW"
      },
      "execution_count": null,
      "outputs": []
    },
    {
      "cell_type": "code",
      "source": [
        "# check the shape of dataset after drop the duplicate rows\n",
        "df1.shape"
      ],
      "metadata": {
        "id": "MdBWrhp__oLJ"
      },
      "execution_count": null,
      "outputs": []
    },
    {
      "cell_type": "markdown",
      "source": [
        "# **Step 2 Handling missing values**"
      ],
      "metadata": {
        "id": "9IZde_HyAHMm"
      }
    },
    {
      "cell_type": "code",
      "source": [
        "# check the null value columns\n",
        "df1.isnull().sum().sort_values(ascending=False)[:6]"
      ],
      "metadata": {
        "id": "kC3IWPY7AElQ"
      },
      "execution_count": null,
      "outputs": []
    },
    {
      "cell_type": "markdown",
      "source": [
        "Since company and agent column have company and agent number as data. Their may be some cases when customer didnt book hotel via any agent or any company. So in that case value can be null in this cases. We will replace null value via 0 in this columns."
      ],
      "metadata": {
        "id": "GuyLs0GbMX6-"
      }
    },
    {
      "cell_type": "code",
      "source": [
        "df1[['agent','company']] = df1[['agent','company']].fillna(0)"
      ],
      "metadata": {
        "id": "407UU5M9NXry"
      },
      "execution_count": null,
      "outputs": []
    },
    {
      "cell_type": "code",
      "source": [
        "df1['children'].unique()"
      ],
      "metadata": {
        "id": "0QYMt8FONtNn"
      },
      "execution_count": null,
      "outputs": []
    },
    {
      "cell_type": "markdown",
      "source": [
        "This columns children has 0 value which means 0 children were present in a gropu of customers who made this transection.\n",
        "So 'nan' value is missing data due to error in recording the data.\n",
        "\n",
        "Will will replace 'nan value with mean of this column value"
      ],
      "metadata": {
        "id": "AaJR5I-dOD9Z"
      }
    },
    {
      "cell_type": "code",
      "source": [
        "df1['children'].fillna(df1['children'].mean(), inplace = True)"
      ],
      "metadata": {
        "id": "luNkXmuTO7xD"
      },
      "execution_count": null,
      "outputs": []
    },
    {
      "cell_type": "markdown",
      "source": [
        "The next column with missing value is country which reprasent the origin of customer country.\n",
        "Since this column have datatype of string so we can replace the 'nan value with 'others' value"
      ],
      "metadata": {
        "id": "GO0IuegJPpM-"
      }
    },
    {
      "cell_type": "code",
      "source": [
        "df1['country'].fillna('others',inplace = True)"
      ],
      "metadata": {
        "id": "KeBDCbPOQXXs"
      },
      "execution_count": null,
      "outputs": []
    },
    {
      "cell_type": "code",
      "source": [
        "# check the null values are removed or not\n",
        "df1_null_values = df1.isnull().sum().reset_index().rename(columns={'index':'Columns',0:'Null Values'})\n",
        "df1_null_values"
      ],
      "metadata": {
        "id": "8mlx2h3vQylA"
      },
      "execution_count": null,
      "outputs": []
    },
    {
      "cell_type": "code",
      "source": [
        "px.bar(df1_null_values, x='Columns',y='Null Values',width=1000,height=500,text_auto= True)"
      ],
      "metadata": {
        "id": "FrXdqRrI5Eug"
      },
      "execution_count": null,
      "outputs": []
    },
    {
      "cell_type": "code",
      "source": [
        "# check the info\n",
        "df1.info()"
      ],
      "metadata": {
        "id": "ajNUta1EVzK9"
      },
      "execution_count": null,
      "outputs": []
    },
    {
      "cell_type": "markdown",
      "source": [
        "# **Step 3 converting the columns to appropriate  datatypes.**"
      ],
      "metadata": {
        "id": "hDBe4EchV-MN"
      }
    },
    {
      "cell_type": "code",
      "source": [
        "# convetring datatype of children,agent,company from float to int\n",
        "df1[['children','agent','company']] = df1[['children','agent','company']].astype('int64')\n"
      ],
      "metadata": {
        "id": "TkjUVDzpWewA"
      },
      "execution_count": null,
      "outputs": []
    },
    {
      "cell_type": "code",
      "source": [
        "# changing the datatype of 'reservation_status_date' to date_time formate\n",
        "df1['reservation_status_date'] = pd.to_datetime(df1['reservation_status_date'], format = '%Y-%m-%d')"
      ],
      "metadata": {
        "id": "48T78DXLe5bW"
      },
      "execution_count": null,
      "outputs": []
    },
    {
      "cell_type": "code",
      "source": [
        "# check datatype change or not\n",
        "df1.info()"
      ],
      "metadata": {
        "id": "R-h5Tanyf_Rv"
      },
      "execution_count": null,
      "outputs": []
    },
    {
      "cell_type": "markdown",
      "source": [
        "# **Step 4 Adding importent columns**"
      ],
      "metadata": {
        "id": "5_Eixf8UgXG_"
      }
    },
    {
      "cell_type": "code",
      "source": [
        "# Adding total_staying days in hotel\n",
        "df1['total_stay'] = df1['stays_in_weekend_nights'] + df1['stays_in_week_nights']"
      ],
      "metadata": {
        "id": "StPmAuEjgtk5"
      },
      "execution_count": null,
      "outputs": []
    },
    {
      "cell_type": "code",
      "source": [
        "# Adding total_people column\n",
        "df1['total_people'] = df1['adults'] + df1['children'] + df1['babies']"
      ],
      "metadata": {
        "id": "0lZ5BMzAhQM1"
      },
      "execution_count": null,
      "outputs": []
    },
    {
      "cell_type": "markdown",
      "source": [
        "We adding the column total_stay and total_people so that we analysis the total_stay in hotel"
      ],
      "metadata": {
        "id": "EnrvJoq4j2sd"
      }
    },
    {
      "cell_type": "code",
      "source": [
        "# check the shape of our dataframe\n",
        "df1.shape"
      ],
      "metadata": {
        "id": "7Oo4fVh0hssX"
      },
      "execution_count": null,
      "outputs": []
    },
    {
      "cell_type": "code",
      "source": [
        "df1[df1['total_people'] == 0].shape"
      ],
      "metadata": {
        "id": "FkLcN2Lxh3vL"
      },
      "execution_count": null,
      "outputs": []
    },
    {
      "cell_type": "markdown",
      "source": [
        "As we see total_people column has 0 value which is not possible so we drop these rows"
      ],
      "metadata": {
        "id": "eZA9pyPliNjZ"
      }
    },
    {
      "cell_type": "code",
      "source": [
        "# drop the rows which have 0 value in 'total_people'\n",
        "df1.drop(df1[df1['total_people'] == 0].index, inplace= True)"
      ],
      "metadata": {
        "id": "jSRLJUGhigfp"
      },
      "execution_count": null,
      "outputs": []
    },
    {
      "cell_type": "markdown",
      "source": [
        "# **Final check**"
      ],
      "metadata": {
        "id": "yKcKTvFdk4nI"
      }
    },
    {
      "cell_type": "code",
      "source": [
        "# check the head of data\n",
        "df1.head()"
      ],
      "metadata": {
        "id": "2V80_7F8k9HE"
      },
      "execution_count": null,
      "outputs": []
    },
    {
      "cell_type": "code",
      "source": [
        "# check info\n",
        "df1.info()"
      ],
      "metadata": {
        "id": "uxHZofMolGUl"
      },
      "execution_count": null,
      "outputs": []
    },
    {
      "cell_type": "markdown",
      "source": [
        "**Our data is ready for EDA**"
      ],
      "metadata": {
        "id": "G2vsyOnNlRhD"
      }
    },
    {
      "cell_type": "markdown",
      "source": [
        "### What all manipulations have you done and insights you found?"
      ],
      "metadata": {
        "id": "MSa1f5Uengrz"
      }
    },
    {
      "cell_type": "markdown",
      "source": [
        "  1. Firstly copy the dataset to avoid changes in original dataset.\n",
        "  2. The data cleaning process was start which involve the removing\n",
        "  the duplicate value and handling the missing values.\n",
        "  3. Understand the unique value in columns.\n",
        "  4. Change the datatype of some columns to appropriate datatype for easier analysis.\n",
        "  5. New columns were added to the dataset for better analysis\n",
        "\n",
        "These steps were taken to ensure that the dataset was ready for analysis and to gain insights that could help improve the hotel's operations and increase revenue."
      ],
      "metadata": {
        "id": "LbyXE7I1olp8"
      }
    },
    {
      "cell_type": "markdown",
      "source": [
        "## ***4. Data Vizualization, Storytelling & Experimenting with charts : Understand the relationships between variables***"
      ],
      "metadata": {
        "id": "GF8Ens_Soomf"
      }
    },
    {
      "cell_type": "markdown",
      "source": [
        "# **Univariate Analysis:**"
      ],
      "metadata": {
        "id": "FcFCzFVBA8aG"
      }
    },
    {
      "cell_type": "markdown",
      "source": [
        "#### Chart - 1"
      ],
      "metadata": {
        "id": "0wOQAZs5pc--"
      }
    },
    {
      "cell_type": "code",
      "source": [
        "# checking most prefered hotel\n",
        "# Vizualization this by pie chart\n",
        "df1_hotel = df1['hotel'].value_counts()\n",
        "df1_hotel"
      ],
      "metadata": {
        "id": "7v_ESjsspbW7"
      },
      "execution_count": null,
      "outputs": []
    },
    {
      "cell_type": "code",
      "source": [
        "from matplotlib.legend import Shadow\n",
        "df1_hotel.plot(kind= 'pie', figsize=(8,6),shadow= True,fontsize = 20,autopct='%1.1f%%',explode=[0.05, 0.05])\n",
        "plt.title('Pie chart for most preffered hotel')"
      ],
      "metadata": {
        "id": "967E6mYyCq3q"
      },
      "execution_count": null,
      "outputs": []
    },
    {
      "cell_type": "markdown",
      "source": [
        "##### 1. Why did you pick the specific chart?"
      ],
      "metadata": {
        "id": "K5QZ13OEpz2H"
      }
    },
    {
      "cell_type": "markdown",
      "source": [
        "I Picked pie chart because it is a good way to show the proportion of different categories in a dataset."
      ],
      "metadata": {
        "id": "XESiWehPqBRc"
      }
    },
    {
      "cell_type": "markdown",
      "source": [
        "##### 2. What is/are the insight(s) found from the chart?"
      ],
      "metadata": {
        "id": "lQ7QKXXCp7Bj"
      }
    },
    {
      "cell_type": "markdown",
      "source": [
        "The pie chart shows that City Hotel is more popular than Resort Hotel in the dataset. Specifically, City Hotel accounts for about 61.1% of the dataset, while Resort Hotel only accounts for about 38.9%."
      ],
      "metadata": {
        "id": "C_j1G7yiqdRP"
      }
    },
    {
      "cell_type": "markdown",
      "source": [
        "##### 3. Will the gained insights help creating a positive business impact?\n",
        "Are there any insights that lead to negative growth? Justify with specific reason."
      ],
      "metadata": {
        "id": "448CDAPjqfQr"
      }
    },
    {
      "cell_type": "markdown",
      "source": [
        "The insights gained from the pie chart showing the proportion of City Hotel and Resort Hotel can potentially help or harm a business depending on the context. If the business owns or manages City Hotel, the finding that City Hotel is more popular than Resort Hotel may suggest that the business should focus on promoting City Hotel more and improving its amenities and services to maintain its popularity. On the other hand, if the business owns or manages Resort Hotel, the finding may suggest that the business should investigate the reasons for Resort Hotel being less popular and consider ways to improve it, such as by offering more amenities, reducing prices, or enhancing the quality of service. In general, the insights gained from the pie chart can inform strategic decisions and actions that align with the business goals and values. However, it's important to be careful not to draw hasty conclusions from the data and to consider the limitations and biases of the dataset."
      ],
      "metadata": {
        "id": "3cspy4FjqxJW"
      }
    },
    {
      "cell_type": "markdown",
      "source": [
        "#### Chart - 2"
      ],
      "metadata": {
        "id": "KSlN3yHqYklG"
      }
    },
    {
      "cell_type": "code",
      "source": [
        "# Checking most preffered meal type\n",
        "# For this we use bar chart\n",
        "df1_meal_type = df1['meal'].value_counts().reset_index().rename(columns={'index':'Type of meal','meal':'No.of customer'})"
      ],
      "metadata": {
        "id": "R4YgtaqtYklH"
      },
      "execution_count": null,
      "outputs": []
    },
    {
      "cell_type": "code",
      "source": [
        "px.bar(df1_meal_type, x='Type of meal', y='No.of customer',text_auto=True)"
      ],
      "metadata": {
        "id": "eslunVkrVubf"
      },
      "execution_count": null,
      "outputs": []
    },
    {
      "cell_type": "markdown",
      "source": [
        "##### 1. Why did you pick the specific chart?"
      ],
      "metadata": {
        "id": "t6dVpIINYklI"
      }
    },
    {
      "cell_type": "markdown",
      "source": [
        "I picked  this charts because it is a great way to visualize and compare the distribution of categorical data. In this case we wanted to check what type of meal is most preffered by the customer"
      ],
      "metadata": {
        "id": "5aaW0BYyYklI"
      }
    },
    {
      "cell_type": "markdown",
      "source": [
        "##### 2. What is/are the insight(s) found from the chart?"
      ],
      "metadata": {
        "id": "ijmpgYnKYklI"
      }
    },
    {
      "cell_type": "markdown",
      "source": [
        "As we see the bar chart most preffered meal by customer are BB(Breakfast,Bed) approx 70% customer preffered BB meal and least no. of customer preffered FB(Breakfast,Lunch.Dinner). And the reason may be in day time most of customer go to visit the city or places so they are not present in day time."
      ],
      "metadata": {
        "id": "PSx9atu2YklI"
      }
    },
    {
      "cell_type": "markdown",
      "source": [
        "##### 3. Will the gained insights help creating a positive business impact?\n",
        "Are there any insights that lead to negative growth? Justify with specific reason."
      ],
      "metadata": {
        "id": "-JiQyfWJYklI"
      }
    },
    {
      "cell_type": "markdown",
      "source": [
        "Answer Here"
      ],
      "metadata": {
        "id": "BcBbebzrYklV"
      }
    },
    {
      "cell_type": "markdown",
      "source": [
        "#### Chart - 3"
      ],
      "metadata": {
        "id": "EM7whBJCYoAo"
      }
    },
    {
      "cell_type": "code",
      "source": [
        "# Which agent make most no booking\n",
        "# For this we use bar chart\n",
        "df1_agent = df1['agent'].value_counts().reset_index().rename(columns={'index':'agent','agent':'No.of booking'})\n",
        "df1_agent"
      ],
      "metadata": {
        "id": "t6GMdE67YoAp"
      },
      "execution_count": null,
      "outputs": []
    },
    {
      "cell_type": "code",
      "source": [
        "df1_agent.drop(df1_agent[df1_agent['agent'] == 0].index,inplace = True) # 0 represent the booking not made by agent\n",
        "df1_agent = df1_agent[:10] # selecting top 10 performing agent\n",
        "plt.figure(figsize=(10,5))\n",
        "sns.barplot(x='agent',y='No.of booking',data = df1_agent,order = df1_agent.sort_values('No.of booking',ascending= False).agent)\n",
        "\n",
        "\n"
      ],
      "metadata": {
        "id": "Z5Fr-FXwK872"
      },
      "execution_count": null,
      "outputs": []
    },
    {
      "cell_type": "markdown",
      "source": [
        "##### 1. Why did you pick the specific chart?"
      ],
      "metadata": {
        "id": "fge-S5ZAYoAp"
      }
    },
    {
      "cell_type": "markdown",
      "source": [
        "I picked this charts because it is a great way to visualize and compare the distribution of categorical data. In this case we wanted to check which agent make most no of booking"
      ],
      "metadata": {
        "id": "5dBItgRVYoAp"
      }
    },
    {
      "cell_type": "markdown",
      "source": [
        "##### 2. What is/are the insight(s) found from the chart?"
      ],
      "metadata": {
        "id": "85gYPyotYoAp"
      }
    },
    {
      "cell_type": "markdown",
      "source": [
        "As we see from the bar chart agent 9 has make more no. of booking then after agent 240 make more no. of booking"
      ],
      "metadata": {
        "id": "4jstXR6OYoAp"
      }
    },
    {
      "cell_type": "markdown",
      "source": [
        "##### 3. Will the gained insights help creating a positive business impact?\n",
        "Are there any insights that lead to negative growth? Justify with specific reason."
      ],
      "metadata": {
        "id": "RoGjAbkUYoAp"
      }
    },
    {
      "cell_type": "markdown",
      "source": [
        "Yes gained insights help creating a positive impact on business. As we see bar chart agent 9 and agent 240 has most no. of booking. So we can  "
      ],
      "metadata": {
        "id": "zfJ8IqMcYoAp"
      }
    },
    {
      "cell_type": "markdown",
      "source": [
        "#### Chart - 4"
      ],
      "metadata": {
        "id": "4Of9eVA-YrdM"
      }
    },
    {
      "cell_type": "code",
      "source": [
        "# From where most guest are come\n",
        "# we use countplot and  folium map\n",
        "df1_country_guest = df1[df1['is_canceled'] == 0]['country'].value_counts().reset_index().rename(columns={'index':'Country','country':'No of guests'})\n",
        "df1_country_guest"
      ],
      "metadata": {
        "id": "irlUoxc8YrdO"
      },
      "execution_count": null,
      "outputs": []
    },
    {
      "cell_type": "code",
      "source": [
        "basemap = folium.Map()\n",
        "ax = px.choropleth(df1_country_guest, locations = df1_country_guest['Country'],\n",
        "                           color =df1_country_guest['No of guests'], hover_name = df1_country_guest['Country'])\n",
        "ax.show()"
      ],
      "metadata": {
        "id": "qEOxdwue1h6d"
      },
      "execution_count": null,
      "outputs": []
    },
    {
      "cell_type": "code",
      "source": [
        "sns.countplot(x=df1['country'],data=df1,order=pd.value_counts(df1['country']).iloc[:10].index,palette= 'colorblind')\n",
        "plt.title('Top 10 Countries of Origin of the Guests', weight='bold')\n",
        "plt.xlabel('Country')\n",
        "plt.ylabel('Reservation Count')"
      ],
      "metadata": {
        "id": "yjDGLuIf17sO"
      },
      "execution_count": null,
      "outputs": []
    },
    {
      "cell_type": "markdown",
      "source": [
        "##### 1. Why did you pick the specific chart?"
      ],
      "metadata": {
        "id": "iky9q4vBYrdO"
      }
    },
    {
      "cell_type": "markdown",
      "source": [
        "I picked  this charts because it is a great way to visualize and compare the distribution of categorical data. In this case, we wanted to Check that Where do the guests come from? and From which country most guests come?\n",
        "\n"
      ],
      "metadata": {
        "id": "aJRCwT6DYrdO"
      }
    },
    {
      "cell_type": "markdown",
      "source": [
        "##### 2. What is/are the insight(s) found from the chart?"
      ],
      "metadata": {
        "id": "F6T5p64dYrdO"
      }
    },
    {
      "cell_type": "markdown",
      "source": [
        "From the chart, we can see that in the Top 10 Countries of Origin of the Guests PRT(Portugu) is on top of the list"
      ],
      "metadata": {
        "id": "Xx8WAJvtYrdO"
      }
    },
    {
      "cell_type": "markdown",
      "source": [
        "##### 3. Will the gained insights help creating a positive business impact?\n",
        "Are there any insights that lead to negative growth? Justify with specific reason."
      ],
      "metadata": {
        "id": "y-Ehk30pYrdP"
      }
    },
    {
      "cell_type": "markdown",
      "source": [
        "Definatly it will help to creat a positve impact on there business now the hotel menager and oweners have more clear idea that what type of customers need to face every day so acordingley the can menage theare resorces like the waiter and other staff should know theare language. what kind of food they like and etc."
      ],
      "metadata": {
        "id": "jLNxxz7MYrdP"
      }
    },
    {
      "cell_type": "markdown",
      "source": [
        "#### Chart - 5"
      ],
      "metadata": {
        "id": "bamQiAODYuh1"
      }
    },
    {
      "cell_type": "code",
      "source": [
        "# Which room type is most demanded?\n",
        "df1_room_type = df1['reserved_room_type'].value_counts()\n",
        "df1_room_type\n"
      ],
      "metadata": {
        "id": "TIJwrbroYuh3"
      },
      "execution_count": null,
      "outputs": []
    },
    {
      "cell_type": "code",
      "source": [
        "# Bar chart using matplotlib\n",
        "df1_room_type.plot(kind='bar')\n",
        "plt.title('Most prefered room type',weight='bold')\n",
        "plt.xlabel('Room Type')\n",
        "plt.ylabel('No of customers')\n",
        "\n"
      ],
      "metadata": {
        "id": "XaSCkM3fkaHZ"
      },
      "execution_count": null,
      "outputs": []
    },
    {
      "cell_type": "markdown",
      "source": [
        "##### 1. Why did you pick the specific chart?"
      ],
      "metadata": {
        "id": "QHF8YVU7Yuh3"
      }
    },
    {
      "cell_type": "markdown",
      "source": [
        "I picked this charts because it is a great way to visualize and compare the distribution of categorical data. In this case, we wanted to Check that which room is prefered most by the guests"
      ],
      "metadata": {
        "id": "dcxuIMRPYuh3"
      }
    },
    {
      "cell_type": "markdown",
      "source": [
        "##### 2. What is/are the insight(s) found from the chart?"
      ],
      "metadata": {
        "id": "GwzvFGzlYuh3"
      }
    },
    {
      "cell_type": "markdown",
      "source": [
        "As we see in the chart most preferred room type is 'A' and 'D'. Aprrox 75% guests preferred room type 'A'."
      ],
      "metadata": {
        "id": "uyqkiB8YYuh3"
      }
    },
    {
      "cell_type": "markdown",
      "source": [
        "##### 3. Will the gained insights help creating a positive business impact?\n",
        "Are there any insights that lead to negative growth? Justify with specific reason."
      ],
      "metadata": {
        "id": "qYpmQ266Yuh3"
      }
    },
    {
      "cell_type": "markdown",
      "source": [
        "Definitely this impact our business. as we know room type 'A' and 'D' is most demanded room type so we have to increases the no of rooms of type 'A' and 'D'. thats causes all time thses type of room is avilablefor guests."
      ],
      "metadata": {
        "id": "_WtzZ_hCYuh4"
      }
    },
    {
      "cell_type": "markdown",
      "source": [
        "# **Bivariate Analysis**"
      ],
      "metadata": {
        "id": "U2oJ-Yq1VLPs"
      }
    },
    {
      "cell_type": "markdown",
      "source": [
        "## **Hotel wise analysis**"
      ],
      "metadata": {
        "id": "lVOnINY7XBbk"
      }
    },
    {
      "cell_type": "markdown",
      "source": [
        "#### Chart - 6"
      ],
      "metadata": {
        "id": "OH-pJp9IphqM"
      }
    },
    {
      "cell_type": "markdown",
      "source": [
        "**Which hotel has higher cancellation rate.**"
      ],
      "metadata": {
        "id": "bumVmE-zgFHC"
      }
    },
    {
      "cell_type": "code",
      "source": [
        "# Selecting and counting number of cancelled bookings for each hotel.\n",
        "cancelled_data =df1[df1['is_canceled'] == 1]\n",
        "D1 = cancelled_data['hotel'].value_counts().reset_index().rename(columns={'index':'Hotel_type','hotel':'Total_cancelled_booking'})\n",
        "\n",
        "# Counting total number of bookings for each type of hotel\n",
        "D2 = df1['hotel'].value_counts().reset_index().rename(columns={'index':'hotel','hotel':'No.of booking'})\n",
        "D3 = pd.concat([D1,D2], axis = 1)\n",
        "\n",
        "# Calculating cancel percentage\n",
        "D3['cancel_%'] = round((D3['Total_cancelled_booking']/D3['No.of booking'])*100,2)\n",
        "D3"
      ],
      "metadata": {
        "id": "bHuwD0KgS668"
      },
      "execution_count": null,
      "outputs": []
    },
    {
      "cell_type": "code",
      "source": [
        "plt.figure(figsize=(10,5))\n",
        "sns.barplot(x=D3['Hotel_type'], y= D3['cancel_%'])\n",
        "plt.title('Cancel percentage of hotel type', weight = 'bold')\n",
        "plt.show()"
      ],
      "metadata": {
        "id": "gAS79LAG34lU"
      },
      "execution_count": null,
      "outputs": []
    },
    {
      "cell_type": "markdown",
      "source": [
        "##### 1. Why did you pick the specific chart?"
      ],
      "metadata": {
        "id": "bbFf2-_FphqN"
      }
    },
    {
      "cell_type": "markdown",
      "source": [
        "I picked this charts because it is a great way to visualize and compare the distribution of categorical data. In this case, we wanted to Check that which hotel type has more cancel percentage"
      ],
      "metadata": {
        "id": "loh7H2nzphqN"
      }
    },
    {
      "cell_type": "markdown",
      "source": [
        "##### 2. What is/are the insight(s) found from the chart?"
      ],
      "metadata": {
        "id": "_ouA3fa0phqN"
      }
    },
    {
      "cell_type": "markdown",
      "source": [
        "As we see in the bar chart city hotel has around 30% cancel rate and resort type hotel has around 23% cancel"
      ],
      "metadata": {
        "id": "VECbqPI7phqN"
      }
    },
    {
      "cell_type": "markdown",
      "source": [
        "##### 3. Will the gained insights help creating a positive business impact?\n",
        "Are there any insights that lead to negative growth? Justify with specific reason."
      ],
      "metadata": {
        "id": "Seke61FWphqN"
      }
    },
    {
      "cell_type": "markdown",
      "source": [
        "Yes definatly this will impact our business. As we see the bar chart city hotel has more cancel rate than resort hotel we have to look up and check what factor affect the most for this case. we analysis this in the cancel analysis part  "
      ],
      "metadata": {
        "id": "DW4_bGpfphqN"
      }
    },
    {
      "cell_type": "markdown",
      "source": [
        "#### Chart - 7"
      ],
      "metadata": {
        "id": "PIIx-8_IphqN"
      }
    },
    {
      "cell_type": "markdown",
      "source": [
        "**Which hotel has higher lead time?**"
      ],
      "metadata": {
        "id": "BCogJix0KwIw"
      }
    },
    {
      "cell_type": "code",
      "source": [
        "# Groupby hotel and lead time columns to find the median of each hotel type\n",
        "df1_lead_time = df1.groupby('hotel')['lead_time'].median().reset_index().rename(columns={'lead_time':'median_lead_time'})\n",
        "df1_lead_time"
      ],
      "metadata": {
        "id": "lqAIGUfyphqO"
      },
      "execution_count": null,
      "outputs": []
    },
    {
      "cell_type": "code",
      "source": [
        "# create a bar chart between hotel and median lead time\n",
        "plt.figure(figsize=(8,5))\n",
        "sns.barplot(x=df1_lead_time['hotel'],y=df1_lead_time['median_lead_time'])"
      ],
      "metadata": {
        "id": "nMeT_sPIMXJL"
      },
      "execution_count": null,
      "outputs": []
    },
    {
      "cell_type": "markdown",
      "source": [
        "##### 1. Why did you pick the specific chart?"
      ],
      "metadata": {
        "id": "t27r6nlMphqO"
      }
    },
    {
      "cell_type": "markdown",
      "source": [
        "I picked this charts because it is a great way to visualize and compare the distribution of categorical data. In this case, we wanted to Check that which hotel type has higher lead time"
      ],
      "metadata": {
        "id": "iv6ro40sphqO"
      }
    },
    {
      "cell_type": "markdown",
      "source": [
        "##### 2. What is/are the insight(s) found from the chart?"
      ],
      "metadata": {
        "id": "r2jJGEOYphqO"
      }
    },
    {
      "cell_type": "markdown",
      "source": [
        "As we see in the chart city hotel has higher lead time as compare to resort hotel. Also median lead time is significantly higher in each case, this means customers generally plan their hotel visits way to early."
      ],
      "metadata": {
        "id": "Po6ZPi4hphqO"
      }
    },
    {
      "cell_type": "markdown",
      "source": [
        "##### 3. Will the gained insights help creating a positive business impact?\n",
        "Are there any insights that lead to negative growth? Justify with specific reason."
      ],
      "metadata": {
        "id": "b0JNsNcRphqO"
      }
    },
    {
      "cell_type": "markdown",
      "source": [
        "Answer Here"
      ],
      "metadata": {
        "id": "xvSq8iUTphqO"
      }
    },
    {
      "cell_type": "markdown",
      "source": [
        "#### Chart - 8"
      ],
      "metadata": {
        "id": "BZR9WyysphqO"
      }
    },
    {
      "cell_type": "markdown",
      "source": [
        "**which hotel seems to make more revenue?**"
      ],
      "metadata": {
        "id": "vveb8XvZOaVc"
      }
    },
    {
      "cell_type": "code",
      "source": [
        "# Groupby hotel and adr columns to find the avg adr for hotel type\n",
        "df1_avg_adr = df1.groupby('hotel')['adr'].mean().reset_index().rename(columns={'adr':'avg_adr'})\n",
        "df1_avg_adr"
      ],
      "metadata": {
        "id": "TdPTWpAVphqO"
      },
      "execution_count": null,
      "outputs": []
    },
    {
      "cell_type": "code",
      "source": [
        "# Create a bar chart between hotel and avg adr\n",
        "px.bar(df1_avg_adr,x='hotel',y='avg_adr',text_auto= True, title = 'Average adr of hotel type')"
      ],
      "metadata": {
        "id": "AkHSgNBFPNkt"
      },
      "execution_count": null,
      "outputs": []
    },
    {
      "cell_type": "markdown",
      "source": [
        "##### 1. Why did you pick the specific chart?"
      ],
      "metadata": {
        "id": "jj7wYXLtphqO"
      }
    },
    {
      "cell_type": "markdown",
      "source": [
        "I picked this charts because it is a great way to visualize and compare the distribution of categorical data. In this case, we wanted to Check that which hotel type has make more revenue"
      ],
      "metadata": {
        "id": "Ob8u6rCTphqO"
      }
    },
    {
      "cell_type": "markdown",
      "source": [
        "##### 2. What is/are the insight(s) found from the chart?"
      ],
      "metadata": {
        "id": "eZrbJ2SmphqO"
      }
    },
    {
      "cell_type": "markdown",
      "source": [
        "As we see in the chart city type hotel has make more revenue than resort type hotel. Average adr of city hotel is 111.272 dollar and average adr of resort hotel is 99.05 dollar."
      ],
      "metadata": {
        "id": "mZtgC_hjphqO"
      }
    },
    {
      "cell_type": "markdown",
      "source": [
        "##### 3. Will the gained insights help creating a positive business impact?\n",
        "Are there any insights that lead to negative growth? Justify with specific reason."
      ],
      "metadata": {
        "id": "rFu4xreNphqO"
      }
    },
    {
      "cell_type": "markdown",
      "source": [
        "Yes we see city hotel has make more revenue so hotel owner increase city hotel numbers and provided more facility so they make more revenue. But in the side of resort hotel owner have to take such type of dicision so that increase the revenue of resort hotels."
      ],
      "metadata": {
        "id": "ey_0qi68phqO"
      }
    },
    {
      "cell_type": "markdown",
      "source": [
        "#### Chart - 9"
      ],
      "metadata": {
        "id": "YJ55k-q6phqO"
      }
    },
    {
      "cell_type": "markdown",
      "source": [
        "**What is preferred stay in each hotel?**"
      ],
      "metadata": {
        "id": "37eXPmQGl_Fw"
      }
    },
    {
      "cell_type": "code",
      "source": [
        "#\n",
        "is_canceled_df1 = df1[df1['is_canceled'] == 0]\n",
        "df1_stay = is_canceled_df1[is_canceled_df1['total_stay']<15]\n",
        "plt.figure(figsize=(10,5))\n",
        "sns.countplot(x=df1_stay['total_stay'], hue= df1_stay['hotel'])\n"
      ],
      "metadata": {
        "id": "B2aS4O1ophqO"
      },
      "execution_count": null,
      "outputs": []
    },
    {
      "cell_type": "markdown",
      "source": [
        "##### 1. Why did you pick the specific chart?"
      ],
      "metadata": {
        "id": "gCFgpxoyphqP"
      }
    },
    {
      "cell_type": "markdown",
      "source": [
        "This is a countplot form seaborn library which is a type of histogram used to visualize the counts of observations in each categorical bin using bars.Using count plot we can easily visualize and compare the total_stay in each hotel type"
      ],
      "metadata": {
        "id": "TVxDimi2phqP"
      }
    },
    {
      "cell_type": "markdown",
      "source": [
        "##### 2. What is/are the insight(s) found from the chart?"
      ],
      "metadata": {
        "id": "OVtJsKN_phqQ"
      }
    },
    {
      "cell_type": "markdown",
      "source": [
        "As we see the countplot mostly guest stay less then 5 days and for short  stay mostly guest prefferd city hotel and for long stay guest preffered resort hotels.\n"
      ],
      "metadata": {
        "id": "ngGi97qjphqQ"
      }
    },
    {
      "cell_type": "markdown",
      "source": [
        "##### 3. Will the gained insights help creating a positive business impact?\n",
        "Are there any insights that lead to negative growth? Justify with specific reason."
      ],
      "metadata": {
        "id": "lssrdh5qphqQ"
      }
    },
    {
      "cell_type": "markdown",
      "source": [
        "Yes definitely these insights impact our business. As we see guest which stay short duration they preffered city hotels thats help to arrangment or facility which we provided in city hotels according to short duration time. And for long duration guest prefferd resort hotels"
      ],
      "metadata": {
        "id": "tBpY5ekJphqQ"
      }
    },
    {
      "cell_type": "markdown",
      "source": [
        "#### Chart - 10"
      ],
      "metadata": {
        "id": "U2RJ9gkRphqQ"
      }
    },
    {
      "cell_type": "markdown",
      "source": [
        " **Which hotel has longer waiting time?**"
      ],
      "metadata": {
        "id": "2n1J0_HJ-V1O"
      }
    },
    {
      "cell_type": "code",
      "source": [
        "# Groupby the hotel and days in waiting list to find the average waiting days for each hotel type\n",
        "df1_waiting_time = df1.groupby('hotel')['days_in_waiting_list'].mean().reset_index().rename(columns={'days_in_waiting_list':'avg_waiting_period'})\n",
        "df1_waiting_time"
      ],
      "metadata": {
        "id": "GM7a4YP4phqQ"
      },
      "execution_count": null,
      "outputs": []
    },
    {
      "cell_type": "code",
      "source": [
        "# Plot the bar chart between the hotel and avg wating period using seaborn library\n",
        "plt.figure(figsize=(8,5))\n",
        "sns.barplot(x=df1_waiting_time['hotel'],y=df1_waiting_time['avg_waiting_period'])\n",
        "plt.show()"
      ],
      "metadata": {
        "id": "OM_5QzK0Hbbx"
      },
      "execution_count": null,
      "outputs": []
    },
    {
      "cell_type": "markdown",
      "source": [
        "##### 1. Why did you pick the specific chart?"
      ],
      "metadata": {
        "id": "1M8mcRywphqQ"
      }
    },
    {
      "cell_type": "markdown",
      "source": [
        "I picked this charts because it is a great way to visualize and compare the distribution of categorical data. In this case, we wanted to Check that which hotel type has longer time."
      ],
      "metadata": {
        "id": "8agQvks0phqQ"
      }
    },
    {
      "cell_type": "markdown",
      "source": [
        "##### 2. What is/are the insight(s) found from the chart?"
      ],
      "metadata": {
        "id": "tgIPom80phqQ"
      }
    },
    {
      "cell_type": "markdown",
      "source": [
        "As we see the bar plot city hotel has long wait time as compare to resort hotel. City hotel has 1.02 average days and resort hotel has only .30 days."
      ],
      "metadata": {
        "id": "Qp13pnNzphqQ"
      }
    },
    {
      "cell_type": "markdown",
      "source": [
        "##### 3. Will the gained insights help creating a positive business impact?\n",
        "Are there any insights that lead to negative growth? Justify with specific reason."
      ],
      "metadata": {
        "id": "JMzcOPDDphqR"
      }
    },
    {
      "cell_type": "markdown",
      "source": [
        "Yes definitely this insight impact our business as  graph shows that city hotel has longer waiting time so we have to increase the number of city hotel and also increase the staff and other facility so that waiting time is reduse.\n"
      ],
      "metadata": {
        "id": "R4Ka1PC2phqR"
      }
    },
    {
      "cell_type": "markdown",
      "source": [
        "#### Chart - 11"
      ],
      "metadata": {
        "id": "x-EpHcCOp1ci"
      }
    },
    {
      "cell_type": "markdown",
      "source": [
        "**Which hotel has high chance that its customer will return for another stay?**"
      ],
      "metadata": {
        "id": "9DGTid6JaQSa"
      }
    },
    {
      "cell_type": "code",
      "source": [
        "# Selecting and counting repeated customers bookings\n",
        "df1_repeated = df1[df1['is_repeated_guest'] == 1]\n",
        "hotel_repeated = df1_repeated.groupby('hotel')['is_repeated_guest'].count().reset_index().rename(columns={'is_repeated_guest':'No of guest repeated'})\n",
        "\n",
        "# Counting total bookings\n",
        "total_guest = df1['hotel'].value_counts().reset_index().rename(columns={'index':'hotel_type','hotel':'total_booking'})\n",
        "d3 = pd.concat([hotel_repeated,total_guest],axis= 1)\n",
        "\n",
        "# Calculating repeat %\n",
        "d3['repeated_%'] = round((d3['No of guest repeated']/d3['total_booking'])*100,2)\n",
        "d3"
      ],
      "metadata": {
        "id": "mAQTIvtqp1cj"
      },
      "execution_count": null,
      "outputs": []
    },
    {
      "cell_type": "code",
      "source": [
        "# Plot bar chart between hotel and repeated percentage using seaborn libarary\n",
        "plt.figure(figsize=(10,5))\n",
        "plt.title('Percentage of repeated guest according to hotel type', weight='bold')\n",
        "sns.barplot(x=d3['hotel'],y=d3['repeated_%'])\n",
        "plt.show()"
      ],
      "metadata": {
        "id": "eHj4CEX3egCd"
      },
      "execution_count": null,
      "outputs": []
    },
    {
      "cell_type": "markdown",
      "source": [
        "##### 1. Why did you pick the specific chart?"
      ],
      "metadata": {
        "id": "X_VqEhTip1ck"
      }
    },
    {
      "cell_type": "markdown",
      "source": [
        "I picked this charts because it is a great way to visualize and compare the distribution of categorical data. In this case, we wanted to Check that which hotel type has more repeated guest."
      ],
      "metadata": {
        "id": "-vsMzt_np1ck"
      }
    },
    {
      "cell_type": "markdown",
      "source": [
        "##### 2. What is/are the insight(s) found from the chart?"
      ],
      "metadata": {
        "id": "8zGJKyg5p1ck"
      }
    },
    {
      "cell_type": "markdown",
      "source": [
        "Answer Here"
      ],
      "metadata": {
        "id": "ZYdMsrqVp1ck"
      }
    },
    {
      "cell_type": "markdown",
      "source": [
        "##### 3. Will the gained insights help creating a positive business impact?\n",
        "Are there any insights that lead to negative growth? Justify with specific reason."
      ],
      "metadata": {
        "id": "PVzmfK_Ep1ck"
      }
    },
    {
      "cell_type": "markdown",
      "source": [
        "Answer Here"
      ],
      "metadata": {
        "id": "druuKYZpp1ck"
      }
    },
    {
      "cell_type": "markdown",
      "source": [
        "# Distribution Channel wise Analysis"
      ],
      "metadata": {
        "id": "0Rt7WZ3zqAln"
      }
    },
    {
      "cell_type": "markdown",
      "source": [
        " Which channel is mostly used for early booking of hotels?\n"
      ],
      "metadata": {
        "id": "Ckvg1muu09xl"
      }
    },
    {
      "cell_type": "markdown",
      "source": [
        "#### Chart - 12"
      ],
      "metadata": {
        "id": "n3dbpmDWp1ck"
      }
    },
    {
      "cell_type": "code",
      "source": [
        "# Chart\n",
        "df1_distribution = df1.groupby('distribution_channel')['lead_time'].median().reset_index().rename(columns={'lead_time':'median_lead_time'})\n",
        "df1_distribution = df1_distribution.sort_values(by='median_lead_time',ascending=False)"
      ],
      "metadata": {
        "id": "bwevp1tKp1ck"
      },
      "execution_count": null,
      "outputs": []
    },
    {
      "cell_type": "code",
      "source": [
        "plt.figure(figsize=(7,5))\n",
        "sns.barplot(x=df1_distribution['distribution_channel'],y=df1_distribution['median_lead_time'])"
      ],
      "metadata": {
        "id": "7ViR1EaD-wGS"
      },
      "execution_count": null,
      "outputs": []
    },
    {
      "cell_type": "markdown",
      "source": [
        "##### 1. Why did you pick the specific chart?"
      ],
      "metadata": {
        "id": "ylSl6qgtp1ck"
      }
    },
    {
      "cell_type": "markdown",
      "source": [
        "Answer Here."
      ],
      "metadata": {
        "id": "m2xqNkiQp1ck"
      }
    },
    {
      "cell_type": "markdown",
      "source": [
        "##### 2. What is/are the insight(s) found from the chart?"
      ],
      "metadata": {
        "id": "ZWILFDl5p1ck"
      }
    },
    {
      "cell_type": "markdown",
      "source": [
        "Answer Here"
      ],
      "metadata": {
        "id": "x-lUsV2mp1ck"
      }
    },
    {
      "cell_type": "markdown",
      "source": [
        "##### 3. Will the gained insights help creating a positive business impact?\n",
        "Are there any insights that lead to negative growth? Justify with specific reason."
      ],
      "metadata": {
        "id": "M7G43BXep1ck"
      }
    },
    {
      "cell_type": "markdown",
      "source": [
        "Answer Here"
      ],
      "metadata": {
        "id": "5wwDJXsLp1cl"
      }
    },
    {
      "cell_type": "markdown",
      "source": [
        "#### Chart - 13"
      ],
      "metadata": {
        "id": "Ag9LCva-p1cl"
      }
    },
    {
      "cell_type": "markdown",
      "source": [
        " Which channel has longer average waiting time?"
      ],
      "metadata": {
        "id": "RJ5nl6sICFXC"
      }
    },
    {
      "cell_type": "code",
      "source": [
        "# Chart\n",
        "df1_waiting = round(df1.groupby('distribution_channel')['days_in_waiting_list'].mean().reset_index(),2).rename(columns={'days_in_waiting_list':'avg_waiting_days'})\n",
        "df1_waiting"
      ],
      "metadata": {
        "id": "EUfxeq9-p1cl"
      },
      "execution_count": null,
      "outputs": []
    },
    {
      "cell_type": "code",
      "source": [
        "plt.figure(figsize=(7,5))\n",
        "sns.barplot(x=df1_waiting['distribution_channel'],y=df1_waiting['avg_waiting_days'])"
      ],
      "metadata": {
        "id": "GWQLUbH7DSyf"
      },
      "execution_count": null,
      "outputs": []
    },
    {
      "cell_type": "markdown",
      "source": [
        "##### 1. Why did you pick the specific chart?"
      ],
      "metadata": {
        "id": "E6MkPsBcp1cl"
      }
    },
    {
      "cell_type": "markdown",
      "source": [
        "Answer Here."
      ],
      "metadata": {
        "id": "V22bRsFWp1cl"
      }
    },
    {
      "cell_type": "markdown",
      "source": [
        "##### 2. What is/are the insight(s) found from the chart?"
      ],
      "metadata": {
        "id": "2cELzS2fp1cl"
      }
    },
    {
      "cell_type": "markdown",
      "source": [
        "Answer Here"
      ],
      "metadata": {
        "id": "ozQPc2_Ip1cl"
      }
    },
    {
      "cell_type": "markdown",
      "source": [
        "##### 3. Will the gained insights help creating a positive business impact?\n",
        "Are there any insights that lead to negative growth? Justify with specific reason."
      ],
      "metadata": {
        "id": "3MPXvC8up1cl"
      }
    },
    {
      "cell_type": "markdown",
      "source": [
        "Answer Here"
      ],
      "metadata": {
        "id": "GL8l1tdLp1cl"
      }
    },
    {
      "cell_type": "markdown",
      "source": [
        "### Chart - 14"
      ],
      "metadata": {
        "id": "b2OGn4G9IRau"
      }
    },
    {
      "cell_type": "markdown",
      "source": [
        "Which distribution channel brings better revenue generating deals for hotels?"
      ],
      "metadata": {
        "id": "6szClyKjInRT"
      }
    },
    {
      "cell_type": "code",
      "source": [
        "df1_revenue = df1.groupby(['distribution_channel','hotel'])['adr'].mean().reset_index().rename(columns={'adr':'avg_adr'})\n",
        "df1_revenue"
      ],
      "metadata": {
        "id": "TAg3c9nmIw-e"
      },
      "execution_count": null,
      "outputs": []
    },
    {
      "cell_type": "code",
      "source": [
        "plt.figure(figsize=(7,5))\n",
        "sns.barplot(x=df1_revenue['distribution_channel'],y=df1_revenue['avg_adr'],hue=df1_revenue['hotel'])\n",
        "plt.ylim(20,140)"
      ],
      "metadata": {
        "id": "yGgOMnZPKQyE"
      },
      "execution_count": null,
      "outputs": []
    },
    {
      "cell_type": "markdown",
      "source": [
        "# **Booking cancellation Analysis**"
      ],
      "metadata": {
        "id": "67I27vYld9RP"
      }
    },
    {
      "cell_type": "markdown",
      "source": [
        "# Let us try to understand what causes the people to cancel the booking."
      ],
      "metadata": {
        "id": "TiyEysT_eKEv"
      }
    },
    {
      "cell_type": "markdown",
      "source": [
        "## Chart - 15"
      ],
      "metadata": {
        "id": "zQJRDyCX6WJ4"
      }
    },
    {
      "cell_type": "markdown",
      "source": [
        "Q1) Which significant distribution channel has highest cancellation percentage?"
      ],
      "metadata": {
        "id": "LlK30zWMoM7B"
      }
    },
    {
      "cell_type": "code",
      "source": [
        "groupby_dc = df1.groupby('distribution_channel')\n",
        "df1_dc = pd.DataFrame((groupby_dc['is_canceled'].sum()/groupby_dc.size())*100).drop(index= 'Undefined').rename(columns={0:'Cancel_%'})\n",
        "plt.figure(figsize=(8,5))\n",
        "sns.barplot(x=df1_dc.index,y=df1_dc['Cancel_%'])"
      ],
      "metadata": {
        "id": "oNY_c6t5ePHn"
      },
      "execution_count": null,
      "outputs": []
    },
    {
      "cell_type": "markdown",
      "source": [
        "1.Why did you pick the specific chart?"
      ],
      "metadata": {
        "id": "tJ52SpLVnbBQ"
      }
    },
    {
      "cell_type": "markdown",
      "source": [
        "Answer Here."
      ],
      "metadata": {
        "id": "FUZpRWinnf1p"
      }
    },
    {
      "cell_type": "markdown",
      "source": [
        "2.What is/are the insight(s) found from the chart?"
      ],
      "metadata": {
        "id": "pKoK-v8FnhCK"
      }
    },
    {
      "cell_type": "markdown",
      "source": [
        "Answer Here."
      ],
      "metadata": {
        "id": "2qoj12bBnvu5"
      }
    },
    {
      "cell_type": "markdown",
      "source": [
        "3.Will the gained insights help creating a positive business impact?\n",
        "Are there any insights that lead to negative growth? Justify with specific reason."
      ],
      "metadata": {
        "id": "5X0OkJCzn1ZN"
      }
    },
    {
      "cell_type": "markdown",
      "source": [
        "Answer Here."
      ],
      "metadata": {
        "id": "8NdPGio0n98B"
      }
    },
    {
      "cell_type": "markdown",
      "source": [
        "## Chart - 16"
      ],
      "metadata": {
        "id": "258stzKq6vIW"
      }
    },
    {
      "cell_type": "markdown",
      "source": [
        "Q2) One question can arise that may be longer waiting period or longer lead time causes the cancellation of bookings, let us check that."
      ],
      "metadata": {
        "id": "7oR55-TwoX9i"
      }
    },
    {
      "cell_type": "code",
      "source": [
        "df1_waiting_bookings = df1[df1['days_in_waiting_list'] != 0]  # Selecting booking with non zero waiting time\n",
        "\n",
        "\n",
        "fig, axes = plt.subplots(1,2,figsize=(18,8))\n",
        "sns.kdeplot(ax=axes[0],x = 'days_in_waiting_list', hue = 'is_canceled' , data =df1_waiting_bookings)\n",
        "sns.kdeplot(ax=axes[1], x = df1['lead_time'], hue = df1['is_canceled'])\n",
        "plt.show()"
      ],
      "metadata": {
        "id": "pHbSG32Wplu7"
      },
      "execution_count": null,
      "outputs": []
    },
    {
      "cell_type": "markdown",
      "source": [
        "1.Why did you pick the specific chart?"
      ],
      "metadata": {
        "id": "IlVwIEww0NUf"
      }
    },
    {
      "cell_type": "markdown",
      "source": [
        "Answer Here."
      ],
      "metadata": {
        "id": "JiN-LtRn0Q28"
      }
    },
    {
      "cell_type": "markdown",
      "source": [
        "2.What is/are the insight(s) found from the chart?"
      ],
      "metadata": {
        "id": "RMcE2mU30U22"
      }
    },
    {
      "cell_type": "markdown",
      "source": [
        "Answer Here."
      ],
      "metadata": {
        "id": "nZ3HZ7mI0YEY"
      }
    },
    {
      "cell_type": "markdown",
      "source": [
        "3.Will the gained insights help creating a positive business impact? Are there any insights that lead to negative growth? Justify with specific reason."
      ],
      "metadata": {
        "id": "K_O0b3Yy0chq"
      }
    },
    {
      "cell_type": "markdown",
      "source": [
        "## Chart - 17"
      ],
      "metadata": {
        "id": "S0RZIxVw60uY"
      }
    },
    {
      "cell_type": "markdown",
      "source": [
        "Q3) Now we will check whether not getting allotted the same room type as demanded is the cause of cancellation fo bookings"
      ],
      "metadata": {
        "id": "cTTSAqlN0hhz"
      }
    },
    {
      "cell_type": "code",
      "source": [
        "def check_room_allot(x):\n",
        "  if x['reserved_room_type'] != x['assigned_room_type']:\n",
        "    return 1\n",
        "  else:\n",
        "    return 0"
      ],
      "metadata": {
        "id": "FdASaZVZ7C7v"
      },
      "execution_count": null,
      "outputs": []
    },
    {
      "cell_type": "code",
      "source": [
        "df1['same_room_not_allot'] = df1.apply(lambda x : check_room_allot(x), axis = 1)\n",
        "group_by_canc = df1.groupby('is_canceled')\n",
        "df1_is_canc = pd.DataFrame((group_by_canc['same_room_not_allot'].sum()/group_by_canc.size())*100).rename(columns = {0: 'same_room_not_alloted_%'})\n",
        "plt.figure(figsize = (8,4))\n",
        "sns.barplot(x = df1_is_canc.index, y = df1_is_canc['same_room_not_alloted_%'])\n",
        "plt.show()"
      ],
      "metadata": {
        "id": "r5OXW2CR7CfO"
      },
      "execution_count": null,
      "outputs": []
    },
    {
      "cell_type": "markdown",
      "source": [
        "## Chart - 18"
      ],
      "metadata": {
        "id": "-hneL41UAeba"
      }
    },
    {
      "cell_type": "markdown",
      "source": [
        "Lets see does not getting same room affects the adr."
      ],
      "metadata": {
        "id": "AkgWl_XLAWwK"
      }
    },
    {
      "cell_type": "code",
      "source": [
        "plt.figure(figsize=(12,6))\n",
        "sns.boxplot(x='same_room_not_allot', y= 'adr', data = df1)\n",
        "plt.show()"
      ],
      "metadata": {
        "id": "83LwhrLWAjXa"
      },
      "execution_count": null,
      "outputs": []
    },
    {
      "cell_type": "markdown",
      "source": [
        "We notice that there is an outlier in adr, so we will remove that for better scatter plot"
      ],
      "metadata": {
        "id": "hTfupsvgIdov"
      }
    },
    {
      "cell_type": "code",
      "source": [
        "df1.drop(df1[df1['adr']>5000].index, inplace = True)"
      ],
      "metadata": {
        "id": "p221BOA0Iryu"
      },
      "execution_count": null,
      "outputs": []
    },
    {
      "cell_type": "code",
      "source": [
        "plt.figure(figsize=(12,6))\n",
        "sns.boxplot(x='same_room_not_allot', y= 'adr', data = df1)\n",
        "plt.show()"
      ],
      "metadata": {
        "id": "sgRAZ-qCJBE8"
      },
      "execution_count": null,
      "outputs": []
    },
    {
      "cell_type": "markdown",
      "source": [
        "# **(4) Time wise analysis**"
      ],
      "metadata": {
        "id": "lWnAQUQFPgRp"
      }
    },
    {
      "cell_type": "markdown",
      "source": [
        "Q1) Which are the most busy months?"
      ],
      "metadata": {
        "id": "o0zy_GNcQ1rY"
      }
    },
    {
      "cell_type": "code",
      "source": [
        "\n",
        "\n",
        "\n",
        "df1_resort = df1[(df1['hotel'] == 'Resort Hotel') & (df1['is_canceled'] == 0)]\n",
        "df1_city = df1[(df1['hotel'] == 'City Hotel') & (df1['is_canceled'] == 0)]\n",
        "\n",
        "resort_hotel = df1_resort['arrival_date_month'].value_counts().reset_index()\n",
        "resort_hotel.columns=['month','No of guests']\n",
        "\n",
        "city_hotel = df1_city['arrival_date_month'].value_counts().reset_index()\n",
        "city_hotel.columns = ['month', 'No of guests']\n",
        "\n",
        "final_guest = resort_hotel.merge(city_hotel, on= 'month')\n",
        "final_guest.columns = ['month', 'No of guests in resort', 'No of guests in city hotel']\n",
        "final_guest\n",
        "\n",
        "months = ['January', 'February', 'March', 'April', 'May', 'June', 'July', 'August', 'September', 'October', 'November', 'December']\n",
        "final_guest['month'] = pd.Categorical(final_guest['month'], categories=months, ordered=True)\n",
        "final_guest = final_guest.sort_values('month').reset_index()\n",
        "final_guest\n",
        "\n",
        "\n"
      ],
      "metadata": {
        "id": "KUuASWzWRDlm"
      },
      "execution_count": null,
      "outputs": []
    },
    {
      "cell_type": "code",
      "source": [
        "sns.lineplot(data=final_guest, x='month', y='No of guests in resort')\n",
        "sns.lineplot(data=final_guest, x='month', y='No of guests in city hotel')\n",
        "plt.legend(['Resort','City Hotel'])\n",
        "plt.ylabel('Number of guest')\n",
        "fig = plt.gcf()\n",
        "fig.set_size_inches(12,5)"
      ],
      "metadata": {
        "id": "4dtyvJ1w3WNx"
      },
      "execution_count": null,
      "outputs": []
    },
    {
      "cell_type": "markdown",
      "source": [
        "Q2) Now lets see which month results in high revenue."
      ],
      "metadata": {
        "id": "Vm84DVsl6drE"
      }
    },
    {
      "cell_type": "code",
      "source": [
        "resort_adr = df1_resort.groupby(['arrival_date_month'])['adr'].mean().reset_index()\n",
        "city_adr = df1_city.groupby(['arrival_date_month'])['adr'].mean().reset_index()\n",
        "final_hotel = resort_adr.merge(city_adr, on = 'arrival_date_month')\n",
        "final_hotel.columns = ['month', 'price_for_resort', 'price_for_city hotel']\n",
        "months = ['January', 'February', 'March', 'April', 'May', 'June', 'July', 'August', 'September', 'October', 'November', 'December']\n",
        "final_hotel['month'] = pd.Categorical(final_hotel['month'], categories=months, ordered=True)\n",
        "final_hotel = final_hotel.sort_values('month').reset_index()\n",
        "final_hotel"
      ],
      "metadata": {
        "id": "oBPhWmML6qCJ"
      },
      "execution_count": null,
      "outputs": []
    },
    {
      "cell_type": "code",
      "source": [
        "sns.lineplot(data=final_hotel, x='month', y='price_for_resort')\n",
        "sns.lineplot(data=final_hotel, x='month', y='price_for_city hotel')\n",
        "plt.legend(['Resort','City Hotel'])\n",
        "plt.ylabel('adr')\n",
        "fig = plt.gcf()\n",
        "fig.set_size_inches(12,5)"
      ],
      "metadata": {
        "id": "FjjX48pr9yc-"
      },
      "execution_count": null,
      "outputs": []
    },
    {
      "cell_type": "code",
      "source": [
        "df1['arrival_date_month'] = pd.Categorical(df1['arrival_date_month'],categories=months,ordered=True)\n",
        "plt.figure(figsize = (11,5))\n",
        "sns.boxplot(x = df1['arrival_date_month'],y = df1['adr'])\n",
        "plt.show()"
      ],
      "metadata": {
        "id": "KRNaoW2y-vGp"
      },
      "execution_count": null,
      "outputs": []
    },
    {
      "cell_type": "markdown",
      "source": [
        " Q3) Let us check the trend of arrival_number and avg adr for each day of month."
      ],
      "metadata": {
        "id": "zmCfHUFRGfBj"
      }
    },
    {
      "cell_type": "code",
      "source": [
        "not_canceled = df1[df1['is_canceled'] == 0]\n",
        "df6 = pd.DataFrame(not_canceled.groupby(['arrival_date_day_of_month']).size()).rename(columns = {0:'Arrival_num'})\n",
        "df6['avg_adr'] = not_canceled.groupby(['arrival_date_day_of_month'])['adr'].mean()\n",
        "df6"
      ],
      "metadata": {
        "id": "AF2SipI1GoHj"
      },
      "execution_count": null,
      "outputs": []
    },
    {
      "cell_type": "code",
      "source": [
        "fig, axes = plt.subplots(1, 2, figsize=(18, 8))\n",
        "\n",
        "# Plotting arrival num for each day of month\n",
        "g = sns.lineplot(ax = axes[0],x = df6.index, y = df6['Arrival_num'])\n",
        "g.grid()\n",
        "g.set_xticks([1,7,14,21,28,31])\n",
        "g.set_xticklabels([1,7,14,21,28,31])\n",
        "\n",
        "# Plotting avg adr for each day of month\n",
        "h = sns.lineplot(ax = axes[1],x = df6.index, y = df6['avg_adr'])\n",
        "h.grid()\n",
        "h.set_xticks([1,7,14,21,28,31])\n",
        "h.set_xticklabels([1,7,14,21,28,31])\n",
        "\n",
        "plt.show()\n"
      ],
      "metadata": {
        "id": "_VdBUpgWfTBb"
      },
      "execution_count": null,
      "outputs": []
    },
    {
      "cell_type": "markdown",
      "source": [
        "Let us divide our customers in three categories of single, couple and family/friends. then check their booking %"
      ],
      "metadata": {
        "id": "vjAmn26Hh8ox"
      }
    },
    {
      "cell_type": "code",
      "source": [
        "## Select single, couple, multiple adults and family\n",
        "single   = not_canceled[(not_canceled['adults']==1) & (not_canceled['children']==0) & (not_canceled['babies']==0)]\n",
        "couple   = not_canceled[(not_canceled['adults']==2) & (not_canceled['children']==0) & (not_canceled['babies']==0)]\n",
        "family   = not_canceled[not_canceled['adults'] + not_canceled['children'] + not_canceled['babies'] > 2]\n",
        "\n",
        "reindex = ['January', 'February','March','April','May','June','July','August','September','October','November','December']\n",
        "\n",
        "fig, ax = plt.subplots(figsize=(11, 5))\n",
        "\n",
        "for type in ['single', 'couple', 'family']:\n",
        "  d1 = eval(type).groupby(['arrival_date_month']).size().reset_index().rename(columns = {0:'arrival_num'})\n",
        "  d1['arrival_date_month'] = pd.Categorical(d1['arrival_date_month'],categories=reindex,ordered=True)\n",
        "  sns.lineplot(data=d1, x= 'arrival_date_month', y='arrival_num', label=type, ax=ax)\n",
        "\n",
        "plt.grid()\n",
        "plt.show()\n"
      ],
      "metadata": {
        "id": "FJO_0jlZiCrp"
      },
      "execution_count": null,
      "outputs": []
    },
    {
      "cell_type": "markdown",
      "source": [
        " which room type generates highest adr?"
      ],
      "metadata": {
        "id": "SGiXKg3_h6xy"
      }
    },
    {
      "cell_type": "code",
      "source": [
        "plt.figure(figsize=(10,5))\n",
        "sns.boxplot(x=df1['assigned_room_type'], y= df1['adr'], data = df1)\n",
        "plt.show()"
      ],
      "metadata": {
        "id": "eJ9W_ef2iH1T"
      },
      "execution_count": null,
      "outputs": []
    },
    {
      "cell_type": "markdown",
      "source": [
        "## What if you wanted to predict whether or not a hotel was likely to receive a disproportionately high number of special requests?"
      ],
      "metadata": {
        "id": "vCPQxntZjZls"
      }
    },
    {
      "cell_type": "code",
      "source": [
        "# special request acoording to market segment\n",
        "sns.boxplot(x='market_segment', y='total_of_special_requests', hue='market_segment', data = df1)\n",
        "fig = plt.gcf()\n",
        "fig.set_size_inches((12,5))"
      ],
      "metadata": {
        "id": "r1KyI5cdjiQP"
      },
      "execution_count": null,
      "outputs": []
    },
    {
      "cell_type": "code",
      "source": [
        "# special requests according to number of kids\n",
        "df1['kids'] = df1['children'] + df1['babies']\n",
        "sns.barplot(x=\"kids\", y=\"total_of_special_requests\",data= df1)\n",
        "fig = plt.gcf()\n",
        "fig.set_size_inches(10,5)"
      ],
      "metadata": {
        "id": "CNO1LDkor8KT"
      },
      "execution_count": null,
      "outputs": []
    },
    {
      "cell_type": "code",
      "source": [
        "# special request according to adult\n",
        "sns.barplot(x=\"adults\", y=\"total_of_special_requests\",data= df1)\n",
        "fig = plt.gcf()\n",
        "fig.set_size_inches(10,5)"
      ],
      "metadata": {
        "id": "cXgRZ-fosoVZ"
      },
      "execution_count": null,
      "outputs": []
    },
    {
      "cell_type": "markdown",
      "source": [
        "#### Chart - 14 - Correlation Heatmap"
      ],
      "metadata": {
        "id": "NC_X3p0fY2L0"
      }
    },
    {
      "cell_type": "code",
      "source": [
        "# Correlation Heatmap visualization code\n",
        "df1_num = df1[['lead_time', 'previous_cancellations', 'previous_bookings_not_canceled', 'booking_changes', 'days_in_waiting_list','adr',\n",
        "          'required_car_parking_spaces','total_of_special_requests','total_stay','total_people']]\n",
        "corrmat = df1_num.corr()\n",
        "f, ax = plt.subplots(figsize=(10, 5))\n",
        "sns.heatmap(corrmat,annot = True,fmt='.2f', annot_kws={'size': 10},  vmax=.8, square=True);"
      ],
      "metadata": {
        "id": "xyC9zolEZNRQ"
      },
      "execution_count": null,
      "outputs": []
    },
    {
      "cell_type": "markdown",
      "source": [
        "Lets see does length of stay affects the adr."
      ],
      "metadata": {
        "id": "_jo-PqIunY3j"
      }
    },
    {
      "cell_type": "code",
      "source": [
        "plt.figure(figsize = (10,5))\n",
        "sns.scatterplot(y='adr', x= 'total_stay', data = df1)\n",
        "plt.show()"
      ],
      "metadata": {
        "id": "lRa16ECuokW0"
      },
      "execution_count": null,
      "outputs": []
    },
    {
      "cell_type": "markdown",
      "source": [
        "##### 1. Why did you pick the specific chart?"
      ],
      "metadata": {
        "id": "UV0SzAkaZNRQ"
      }
    },
    {
      "cell_type": "markdown",
      "source": [
        "Answer Here."
      ],
      "metadata": {
        "id": "DVPuT8LYZNRQ"
      }
    },
    {
      "cell_type": "markdown",
      "source": [
        "##### 2. What is/are the insight(s) found from the chart?"
      ],
      "metadata": {
        "id": "YPEH6qLeZNRQ"
      }
    },
    {
      "cell_type": "markdown",
      "source": [
        "Answer Here"
      ],
      "metadata": {
        "id": "bfSqtnDqZNRR"
      }
    },
    {
      "cell_type": "markdown",
      "source": [
        "#### Chart - 15 - Pair Plot"
      ],
      "metadata": {
        "id": "q29F0dvdveiT"
      }
    },
    {
      "cell_type": "code",
      "source": [
        "# Pair Plot visualization code\n",
        "cols = ['hotel', 'is_canceled', 'lead_time', 'adults', 'children', 'babies']\n",
        "sns.pairplot(df1[cols], hue='hotel')\n",
        "plt.show()"
      ],
      "metadata": {
        "id": "o58-TEIhveiU"
      },
      "execution_count": null,
      "outputs": []
    },
    {
      "cell_type": "markdown",
      "source": [
        "##### 1. Why did you pick the specific chart?"
      ],
      "metadata": {
        "id": "EXh0U9oCveiU"
      }
    },
    {
      "cell_type": "markdown",
      "source": [
        "Answer Here."
      ],
      "metadata": {
        "id": "eMmPjTByveiU"
      }
    },
    {
      "cell_type": "markdown",
      "source": [
        "##### 2. What is/are the insight(s) found from the chart?"
      ],
      "metadata": {
        "id": "22aHeOlLveiV"
      }
    },
    {
      "cell_type": "markdown",
      "source": [
        "Answer Here"
      ],
      "metadata": {
        "id": "uPQ8RGwHveiV"
      }
    },
    {
      "cell_type": "markdown",
      "source": [
        "## **5. Solution to Business Objective**"
      ],
      "metadata": {
        "id": "JcMwzZxoAimU"
      }
    },
    {
      "cell_type": "markdown",
      "source": [
        "#### What do you suggest the client to achieve Business Objective ?\n",
        "Explain Briefly."
      ],
      "metadata": {
        "id": "8G2x9gOozGDZ"
      }
    },
    {
      "cell_type": "markdown",
      "source": [
        "Answer Here."
      ],
      "metadata": {
        "id": "pASKb0qOza21"
      }
    },
    {
      "cell_type": "markdown",
      "source": [
        "# **Conclusion**"
      ],
      "metadata": {
        "id": "gCX9965dhzqZ"
      }
    },
    {
      "cell_type": "markdown",
      "source": [
        "Write the conclusion here."
      ],
      "metadata": {
        "id": "Fjb1IsQkh3yE"
      }
    },
    {
      "cell_type": "markdown",
      "source": [
        "### ***Hurrah! You have successfully completed your EDA Capstone Project !!!***"
      ],
      "metadata": {
        "id": "gIfDvo9L0UH2"
      }
    }
  ]
}